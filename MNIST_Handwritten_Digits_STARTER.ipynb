{
 "cells": [
  {
   "cell_type": "markdown",
   "metadata": {
    "id": "ZJFkXDOMzWWK"
   },
   "source": [
    "# Introduction\n",
    "\n",
    "In this project, you will build a neural network of your own design to evaluate the MNIST dataset.\n",
    "\n",
    "Some of the benchmark results on MNIST include can be found [on Yann LeCun's page](https://webcache.googleusercontent.com/search?q=cache:stAVPik6onEJ:yann.lecun.com/exdb/mnist) and include:\n",
    "\n",
    "88% [Lecun et al., 1998](https://hal.science/hal-03926082/document)\n",
    "\n",
    "95.3% [Lecun et al., 1998](https://hal.science/hal-03926082v1/document)\n",
    "\n",
    "99.65% [Ciresan et al., 2011](http://people.idsia.ch/~juergen/ijcai2011.pdf)\n",
    "\n",
    "\n",
    "MNIST is a great dataset for sanity checking your models, since the accuracy levels achieved by large convolutional neural networks and small linear models are both quite high. This makes it important to be familiar with the data.\n",
    "\n",
    "## Installation"
   ]
  },
  {
   "cell_type": "code",
   "execution_count": 1,
   "metadata": {
    "id": "HgGuxeJDzWWQ"
   },
   "outputs": [],
   "source": [
    "# Update the PATH to include the user installation directory.\n",
    "import os\n",
    "os.environ['PATH'] = f\"{os.environ['PATH']}:/root/.local/bin\"\n",
    "\n",
    "# Restart the Kernel before you move on to the next step."
   ]
  },
  {
   "cell_type": "markdown",
   "metadata": {
    "id": "NdZZPKQCzWWT"
   },
   "source": [
    "#### Important: Restart the Kernel before you move on to the next step."
   ]
  },
  {
   "cell_type": "code",
   "execution_count": null,
   "metadata": {
    "id": "JhdyaKE5zWWT"
   },
   "outputs": [],
   "source": [
    "# Install requirements\n",
    "!python -m pip install -r requirements.txt"
   ]
  },
  {
   "cell_type": "markdown",
   "metadata": {
    "id": "zuIe7BI7zWWU"
   },
   "source": [
    "## Imports"
   ]
  },
  {
   "cell_type": "code",
   "execution_count": 2,
   "metadata": {
    "id": "WbkPd-DrzWWV"
   },
   "outputs": [],
   "source": [
    "## This cell contains the essential imports you will need – DO NOT CHANGE THE CONTENTS! ##\n",
    "import torch\n",
    "import torch.nn as nn\n",
    "import torch.nn.functional as F\n",
    "import torch.optim as optim\n",
    "import torchvision\n",
    "import torchvision.transforms as transforms\n",
    "import matplotlib.pyplot as plt\n",
    "import numpy as np\n",
    "import os\n",
    "\n",
    "from torchvision import datasets\n",
    "from torch.utils.data import DataLoader"
   ]
  },
  {
   "cell_type": "markdown",
   "metadata": {
    "id": "xfkoaWYmzWWW"
   },
   "source": [
    "## Load the Dataset\n",
    "\n",
    "Specify your transforms as a list if you intend to .\n",
    "The transforms module is already loaded as `transforms`.\n",
    "\n",
    "MNIST is fortunately included in the torchvision module.\n",
    "Then, you can create your dataset using the `MNIST` object from `torchvision.datasets` ([the documentation is available here](https://pytorch.org/vision/stable/datasets.html#mnist)).\n",
    "Make sure to specify `download=True`!\n",
    "\n",
    "Once your dataset is created, you'll also need to define a `DataLoader` from the `torch.utils.data` module for both the train and the test set."
   ]
  },
  {
   "cell_type": "code",
   "execution_count": 3,
   "metadata": {
    "colab": {
     "base_uri": "https://localhost:8080/"
    },
    "id": "0Ekt6MOuzWWW",
    "outputId": "52edf6b9-8203-479b-e8ee-bebc838e0bbb"
   },
   "outputs": [
    {
     "name": "stdout",
     "output_type": "stream",
     "text": [
      "/content/Data\n"
     ]
    }
   ],
   "source": [
    "DATA_PATH = os.getcwd()\n",
    "if \"Data\" not in os.listdir():\n",
    "    os.makedirs('Data')\n",
    "DATA_PATH = os.path.join(os.getcwd(), \"Data\")\n",
    "print(DATA_PATH)"
   ]
  },
  {
   "cell_type": "code",
   "execution_count": 4,
   "metadata": {
    "colab": {
     "base_uri": "https://localhost:8080/"
    },
    "id": "4pfhWV2FzWWZ",
    "outputId": "0f3bbfd9-c6ba-44e7-9b6c-006bbf8119bd"
   },
   "outputs": [
    {
     "name": "stdout",
     "output_type": "stream",
     "text": [
      "Downloading http://yann.lecun.com/exdb/mnist/train-images-idx3-ubyte.gz\n",
      "Failed to download (trying next):\n",
      "HTTP Error 403: Forbidden\n",
      "\n",
      "Downloading https://ossci-datasets.s3.amazonaws.com/mnist/train-images-idx3-ubyte.gz\n",
      "Downloading https://ossci-datasets.s3.amazonaws.com/mnist/train-images-idx3-ubyte.gz to /content/Data/MNIST/raw/train-images-idx3-ubyte.gz\n"
     ]
    },
    {
     "name": "stderr",
     "output_type": "stream",
     "text": [
      "100%|██████████| 9912422/9912422 [00:00<00:00, 15835042.34it/s]\n"
     ]
    },
    {
     "name": "stdout",
     "output_type": "stream",
     "text": [
      "Extracting /content/Data/MNIST/raw/train-images-idx3-ubyte.gz to /content/Data/MNIST/raw\n",
      "\n",
      "Downloading http://yann.lecun.com/exdb/mnist/train-labels-idx1-ubyte.gz\n",
      "Failed to download (trying next):\n",
      "HTTP Error 403: Forbidden\n",
      "\n",
      "Downloading https://ossci-datasets.s3.amazonaws.com/mnist/train-labels-idx1-ubyte.gz\n",
      "Downloading https://ossci-datasets.s3.amazonaws.com/mnist/train-labels-idx1-ubyte.gz to /content/Data/MNIST/raw/train-labels-idx1-ubyte.gz\n"
     ]
    },
    {
     "name": "stderr",
     "output_type": "stream",
     "text": [
      "100%|██████████| 28881/28881 [00:00<00:00, 474258.94it/s]\n"
     ]
    },
    {
     "name": "stdout",
     "output_type": "stream",
     "text": [
      "Extracting /content/Data/MNIST/raw/train-labels-idx1-ubyte.gz to /content/Data/MNIST/raw\n",
      "\n",
      "Downloading http://yann.lecun.com/exdb/mnist/t10k-images-idx3-ubyte.gz\n",
      "Failed to download (trying next):\n",
      "HTTP Error 403: Forbidden\n",
      "\n",
      "Downloading https://ossci-datasets.s3.amazonaws.com/mnist/t10k-images-idx3-ubyte.gz\n",
      "Downloading https://ossci-datasets.s3.amazonaws.com/mnist/t10k-images-idx3-ubyte.gz to /content/Data/MNIST/raw/t10k-images-idx3-ubyte.gz\n"
     ]
    },
    {
     "name": "stderr",
     "output_type": "stream",
     "text": [
      "100%|██████████| 1648877/1648877 [00:01<00:00, 1293968.71it/s]\n"
     ]
    },
    {
     "name": "stdout",
     "output_type": "stream",
     "text": [
      "Extracting /content/Data/MNIST/raw/t10k-images-idx3-ubyte.gz to /content/Data/MNIST/raw\n",
      "\n",
      "Downloading http://yann.lecun.com/exdb/mnist/t10k-labels-idx1-ubyte.gz\n",
      "Failed to download (trying next):\n",
      "HTTP Error 403: Forbidden\n",
      "\n",
      "Downloading https://ossci-datasets.s3.amazonaws.com/mnist/t10k-labels-idx1-ubyte.gz\n",
      "Downloading https://ossci-datasets.s3.amazonaws.com/mnist/t10k-labels-idx1-ubyte.gz to /content/Data/MNIST/raw/t10k-labels-idx1-ubyte.gz\n"
     ]
    },
    {
     "name": "stderr",
     "output_type": "stream",
     "text": [
      "100%|██████████| 4542/4542 [00:00<00:00, 7167241.82it/s]"
     ]
    },
    {
     "name": "stdout",
     "output_type": "stream",
     "text": [
      "Extracting /content/Data/MNIST/raw/t10k-labels-idx1-ubyte.gz to /content/Data/MNIST/raw\n",
      "\n"
     ]
    },
    {
     "name": "stderr",
     "output_type": "stream",
     "text": [
      "\n"
     ]
    }
   ],
   "source": [
    "# Define transforms\n",
    "transform = transforms.Compose([transforms.ToTensor(), transforms.Normalize((0.5, ), (0.5, )),\n",
    "                               transforms.RandomRotation((5, 355)),\n",
    "#                                 transforms.GaussianBlur(kernel_size = (5, 5))\n",
    "                               ])\n",
    "\n",
    "# Create training set and define training dataloader\n",
    "dataset = datasets.MNIST(root = DATA_PATH, train = True, transform = transform, download = True)\n",
    "train_data, val_data = torch.utils.data.random_split(dataset, [50000, 10000], torch.Generator().manual_seed(42))\n",
    "test_data = datasets.MNIST(root = DATA_PATH, train = False, transform = transform, download = True)\n",
    "\n",
    "# Create test set and define test dataloader\n",
    "train_loader = DataLoader(train_data, batch_size = 32, shuffle = True)\n",
    "val_loader = DataLoader(val_data, batch_size = 32, shuffle = True)\n",
    "test_loader = DataLoader(test_data, batch_size = 32)"
   ]
  },
  {
   "cell_type": "markdown",
   "metadata": {
    "id": "mbKpisofzWWa"
   },
   "source": [
    "## Justify your preprocessing\n",
    "\n",
    "In your own words, why did you choose the transforms you chose? If you didn't use any preprocessing steps, why not?"
   ]
  },
  {
   "cell_type": "markdown",
   "metadata": {
    "id": "mnz4VMnGzWWb"
   },
   "source": [
    "### transforms.ToTensor():\n",
    "\n",
    "Deep learning models typically require input data in the form of tensors. This transformation scales the pixel values of the image from the range [0, 255] to the range [0, 1] by dividing by 255.0.\n",
    "\n",
    "### transforms.Normalize((0.5, ), (0.5, )):\n",
    "\n",
    "Normalization helps in speeding up the training process and achieving better convergence. It helps to standardize the inputs, making the model training more stable and efficient.\n",
    "\n",
    "### transforms.RandomRotation((5, 355)):\n",
    "\n",
    "Data augmentation technique used to increase the diversity of the training dataset and improve the robustness of the model."
   ]
  },
  {
   "cell_type": "markdown",
   "metadata": {
    "id": "cudquti3zWWc"
   },
   "source": [
    "## Explore the Dataset\n",
    "Using matplotlib, numpy, and torch, explore the dimensions of your data.\n",
    "\n",
    "You can view images using the `show5` function defined below – it takes a data loader as an argument.\n",
    "Remember that normalized images will look really weird to you! You may want to try changing your transforms to view images.\n",
    "Typically using no transforms other than `toTensor()` works well for viewing – but not as well for training your network.\n",
    "If `show5` doesn't work, go back and check your code for creating your data loaders and your training/test sets."
   ]
  },
  {
   "cell_type": "code",
   "execution_count": 5,
   "metadata": {
    "colab": {
     "base_uri": "https://localhost:8080/",
     "height": 1000
    },
    "id": "uSSkeLVLzWWc",
    "outputId": "e0d47695-6b0a-4359-a5b4-311f308bf795"
   },
   "outputs": [
    {
     "name": "stdout",
     "output_type": "stream",
     "text": [
      "5\n"
     ]
    },
    {
     "data": {
      "image/png": "[encoded data removed]",
      "text/plain": [
       "<Figure size 640x480 with 1 Axes>"
      ]
     },
     "metadata": {},
     "output_type": "display_data"
    },
    {
     "name": "stdout",
     "output_type": "stream",
     "text": [
      "9\n"
     ]
    },
    {
     "data": {
      "image/png": "[encoded data removed]",
      "text/plain": [
       "<Figure size 640x480 with 1 Axes>"
      ]
     },
     "metadata": {},
     "output_type": "display_data"
    },
    {
     "name": "stdout",
     "output_type": "stream",
     "text": [
      "0\n"
     ]
    },
    {
     "data": {
      "image/png": "[encoded data removed]",
      "text/plain": [
       "<Figure size 640x480 with 1 Axes>"
      ]
     },
     "metadata": {},
     "output_type": "display_data"
    },
    {
     "name": "stdout",
     "output_type": "stream",
     "text": [
      "9\n"
     ]
    },
    {
     "data": {
      "image/png": "[encoded data removed]",
      "text/plain": [
       "<Figure size 640x480 with 1 Axes>"
      ]
     },
     "metadata": {},
     "output_type": "display_data"
    },
    {
     "name": "stdout",
     "output_type": "stream",
     "text": [
      "0\n"
     ]
    },
    {
     "data": {
      "image/png": "[encoded data removed]",
      "text/plain": [
       "<Figure size 640x480 with 1 Axes>"
      ]
     },
     "metadata": {},
     "output_type": "display_data"
    }
   ],
   "source": [
    "## This cell contains a function for showing 5 images from a dataloader – DO NOT CHANGE THE CONTENTS! ##\n",
    "def show5(img_loader):\n",
    "    dataiter = iter(img_loader)\n",
    "\n",
    "    batch = next(dataiter)\n",
    "    labels = batch[1][0:5]\n",
    "    images = batch[0][0:5]\n",
    "    for i in range(5):\n",
    "        print(int(labels[i].detach()))\n",
    "\n",
    "        image = images[i].numpy()\n",
    "        plt.imshow(image.T.squeeze().T)\n",
    "        plt.show()\n",
    "show5(train_loader)"
   ]
  },
  {
   "cell_type": "code",
   "execution_count": 6,
   "metadata": {
    "colab": {
     "base_uri": "https://localhost:8080/"
    },
    "id": "E2CKGeWZzWWe",
    "outputId": "2b2f8311-6684-40fb-9db6-16cc09f668c7"
   },
   "outputs": [
    {
     "name": "stdout",
     "output_type": "stream",
     "text": [
      "Total number of train images: 50000\n",
      "Total number of validation images: 10000\n",
      "Total number of test images: 10000\n",
      "Train classes: ['0 - zero', '1 - one', '2 - two', '3 - three', '4 - four', '5 - five', '6 - six', '7 - seven', '8 - eight', '9 - nine']\n",
      "Image shape: torch.Size([1, 28, 28])\n",
      "Image 5 label: 2\n"
     ]
    }
   ],
   "source": [
    "# Explore data\n",
    "print(f\"Total number of train images: {len(train_data)}\")\n",
    "print(f\"Total number of validation images: {len(val_data)}\")\n",
    "print(f\"Total number of test images: {len(test_data)}\")\n",
    "\n",
    "print(f\"Train classes: {test_data.classes}\")\n",
    "\n",
    "print(f\"Image shape: {train_data[5][0].shape}\")\n",
    "print(\"Image 5 label: {}\".format(train_data[5][1]))"
   ]
  },
  {
   "cell_type": "markdown",
   "metadata": {
    "id": "uDR7kko0zWWf"
   },
   "source": [
    "## Build your Neural Network\n",
    "Using the layers in `torch.nn` (which has been imported as `nn`) and the `torch.nn.functional` module (imported as `F`), construct a neural network based on the parameters of the dataset.\n",
    "Use any architecture you like.\n",
    "\n",
    "*Note*: If you did not flatten your tensors in your transforms or as part of your preprocessing and you are using only `Linear` layers, make sure to use the `Flatten` layer in your network!"
   ]
  },
  {
   "cell_type": "code",
   "execution_count": 7,
   "metadata": {
    "colab": {
     "base_uri": "https://localhost:8080/"
    },
    "id": "WmUi9O5pzWWf",
    "outputId": "ab5b5d6b-2103-4273-d514-d7542109756d"
   },
   "outputs": [
    {
     "data": {
      "text/plain": [
       "784"
      ]
     },
     "execution_count": 7,
     "metadata": {},
     "output_type": "execute_result"
    }
   ],
   "source": [
    "28*28"
   ]
  },
  {
   "cell_type": "code",
   "execution_count": 8,
   "metadata": {
    "id": "qlVYY3C8zWWg"
   },
   "outputs": [],
   "source": [
    "class model(nn.Module):\n",
    "    def __init__(self):\n",
    "        super().__init__()\n",
    "        self.activation = F.relu\n",
    "        self.layer1 = nn.Linear(784, 512)\n",
    "        self.layer2 = nn.Linear(512, 256)\n",
    "        self.layer3 = nn.Linear(256, 128)\n",
    "        self.layer4 = nn.Linear(128, 10)\n",
    "\n",
    "    def forward(self, x):\n",
    "        x =  torch.flatten(x, 1)\n",
    "        x = self.activation(self.layer1(x))\n",
    "        x = self.activation(self.layer2(x))\n",
    "        x = self.activation(self.layer3(x))\n",
    "        x = self.layer4(x)\n",
    "        return x\n",
    "\n",
    "model = model()"
   ]
  },
  {
   "cell_type": "markdown",
   "metadata": {
    "id": "HEjKCCy_zWWh"
   },
   "source": [
    "Specify a loss function and an optimizer, and instantiate the model.\n",
    "\n",
    "If you use a less common loss function, please note why you chose that loss function in a comment."
   ]
  },
  {
   "cell_type": "code",
   "execution_count": 9,
   "metadata": {
    "id": "VLvI4LxkzWWh"
   },
   "outputs": [],
   "source": [
    "optimizer = optim.SGD(model.parameters(), lr = 0.01, momentum = 0.9)\n",
    "\n",
    "criterion = nn.CrossEntropyLoss()"
   ]
  },
  {
   "cell_type": "markdown",
   "metadata": {
    "id": "_i6SuQMRzWWi"
   },
   "source": [
    "## Running your Neural Network\n",
    "Use whatever method you like to train your neural network, and ensure you record the average loss at each epoch.\n",
    "Don't forget to use `torch.device()` and the `.to()` method for both your model and your data if you are using GPU!\n",
    "\n",
    "If you want to print your loss **during** each epoch, you can use the `enumerate` function and print the loss after a set number of batches. 250 batches works well for most people!"
   ]
  },
  {
   "cell_type": "code",
   "execution_count": 10,
   "metadata": {
    "id": "LjBSYid2zWWj"
   },
   "outputs": [],
   "source": [
    "def train_model(model, train_loader, val_loader, optimizer, criterion, EPOCHS = 10):\n",
    "    if torch.cuda.is_available():\n",
    "        model = model.cuda()\n",
    "\n",
    "    train_losses = list()\n",
    "    train_accuracy = list()\n",
    "\n",
    "    val_losses = list()\n",
    "    val_accuracy = list()\n",
    "\n",
    "    for epoch in range(EPOCHS):\n",
    "        model.train()\n",
    "\n",
    "        train_loss = 0\n",
    "        train_correct = 0\n",
    "\n",
    "        val_loss = 0\n",
    "        val_correct = 0\n",
    "\n",
    "        for data in train_loader:\n",
    "            images, labels = data\n",
    "\n",
    "            if torch.cuda.is_available():\n",
    "                images, labels = images.cuda(), labels.cuda()\n",
    "\n",
    "            optimizer.zero_grad()\n",
    "\n",
    "            outputs = model(images)\n",
    "            loss = criterion(outputs, labels)\n",
    "\n",
    "            loss.backward()\n",
    "            optimizer.step()\n",
    "\n",
    "            _, predictions = torch.max(outputs.data, 1)\n",
    "            train_correct += sum(predictions == labels)/len(predictions == labels)\n",
    "            train_loss += loss.item()\n",
    "\n",
    "        train_losses.append(train_loss/len(train_loader))\n",
    "        train_accuracy.append(train_correct/len(train_loader))\n",
    "        print(f\"Epoch: {epoch+1} Train Accuracy: {(train_correct/len(train_loader)):.4f}% Train Loss: {(train_loss/len(train_loader)):.4f}\")\n",
    "\n",
    "        model.eval()\n",
    "\n",
    "        for data in val_loader:\n",
    "            images, labels = data\n",
    "\n",
    "            if torch.cuda.is_available():\n",
    "                images, labels = images.cuda(), labels.cuda()\n",
    "\n",
    "            outputs = model(images)\n",
    "            loss = criterion(outputs, labels)\n",
    "\n",
    "            _, predictions = torch.max(outputs.data, 1)\n",
    "            val_correct += sum(predictions == labels)/len(predictions == labels)\n",
    "            val_loss += loss.item()\n",
    "\n",
    "        val_losses.append(val_loss/len(val_loader))\n",
    "        val_accuracy.append(val_correct/len(val_loader))\n",
    "        print(f\"Epoch: {epoch+1} Validation Accuracy: {(val_correct/len(val_loader)):.4f}% Validation Loss: {(val_loss/len(val_loader)):.4f}\")\n",
    "    return train_losses, train_accuracy, val_losses, val_accuracy"
   ]
  },
  {
   "cell_type": "code",
   "execution_count": 11,
   "metadata": {
    "colab": {
     "base_uri": "https://localhost:8080/"
    },
    "id": "q5cyDxASzWWj",
    "outputId": "70a00592-dcd9-4aaf-97ad-d542b891802c"
   },
   "outputs": [
    {
     "name": "stdout",
     "output_type": "stream",
     "text": [
      "Epoch: 1 Train Accuracy: 0.5305% Train Loss: 1.3005\n",
      "Epoch: 1 Validation Accuracy: 0.6764% Validation Loss: 0.9511\n",
      "Epoch: 2 Train Accuracy: 0.7880% Train Loss: 0.6514\n",
      "Epoch: 2 Validation Accuracy: 0.8496% Validation Loss: 0.4782\n",
      "Epoch: 3 Train Accuracy: 0.8571% Train Loss: 0.4516\n",
      "Epoch: 3 Validation Accuracy: 0.8777% Validation Loss: 0.3921\n",
      "Epoch: 4 Train Accuracy: 0.8869% Train Loss: 0.3608\n",
      "Epoch: 4 Validation Accuracy: 0.9013% Validation Loss: 0.3170\n",
      "Epoch: 5 Train Accuracy: 0.8981% Train Loss: 0.3161\n",
      "Epoch: 5 Validation Accuracy: 0.9038% Validation Loss: 0.3186\n",
      "Epoch: 6 Train Accuracy: 0.9108% Train Loss: 0.2818\n",
      "Epoch: 6 Validation Accuracy: 0.9036% Validation Loss: 0.2973\n",
      "Epoch: 7 Train Accuracy: 0.9190% Train Loss: 0.2573\n",
      "Epoch: 7 Validation Accuracy: 0.9220% Validation Loss: 0.2428\n",
      "Epoch: 8 Train Accuracy: 0.9237% Train Loss: 0.2344\n",
      "Epoch: 8 Validation Accuracy: 0.9262% Validation Loss: 0.2367\n",
      "Epoch: 9 Train Accuracy: 0.9293% Train Loss: 0.2226\n",
      "Epoch: 9 Validation Accuracy: 0.9299% Validation Loss: 0.2292\n",
      "Epoch: 10 Train Accuracy: 0.9335% Train Loss: 0.2072\n",
      "Epoch: 10 Validation Accuracy: 0.9309% Validation Loss: 0.2190\n",
      "Epoch: 11 Train Accuracy: 0.9372% Train Loss: 0.1991\n",
      "Epoch: 11 Validation Accuracy: 0.9323% Validation Loss: 0.2129\n",
      "Epoch: 12 Train Accuracy: 0.9407% Train Loss: 0.1903\n",
      "Epoch: 12 Validation Accuracy: 0.9329% Validation Loss: 0.2174\n",
      "Epoch: 13 Train Accuracy: 0.9427% Train Loss: 0.1813\n",
      "Epoch: 13 Validation Accuracy: 0.9366% Validation Loss: 0.2002\n",
      "Epoch: 14 Train Accuracy: 0.9460% Train Loss: 0.1723\n",
      "Epoch: 14 Validation Accuracy: 0.9381% Validation Loss: 0.2047\n",
      "Epoch: 15 Train Accuracy: 0.9462% Train Loss: 0.1692\n",
      "Epoch: 15 Validation Accuracy: 0.9443% Validation Loss: 0.1856\n"
     ]
    }
   ],
   "source": [
    "EPOCHS = 15\n",
    "train_losses, train_accuracy, val_losses, val_accuracy = train_model(model, train_loader,\n",
    "                                                                       val_loader, optimizer, criterion, EPOCHS)"
   ]
  },
  {
   "cell_type": "markdown",
   "metadata": {
    "id": "pt4AEvyzzWWk"
   },
   "source": [
    "Plot the training loss (and validation loss/accuracy, if recorded)."
   ]
  },
  {
   "cell_type": "code",
   "execution_count": 23,
   "metadata": {
    "id": "djFR01Di2YEj"
   },
   "outputs": [],
   "source": [
    "train_accuracy = [_.cpu().numpy() for _ in train_accuracy]\n",
    "val_accuracy = [_.cpu().numpy() for _ in val_accuracy]"
   ]
  },
  {
   "cell_type": "code",
   "execution_count": 24,
   "metadata": {
    "colab": {
     "base_uri": "https://localhost:8080/",
     "height": 487
    },
    "id": "7_DKxHN3zWWk",
    "outputId": "b2961aec-195e-4e52-a618-6ec9e927d40d"
   },
   "outputs": [
    {
     "data": {
      "image/png": "[encoded data removed]",
      "text/plain": [
       "<Figure size 1200x500 with 2 Axes>"
      ]
     },
     "metadata": {},
     "output_type": "display_data"
    }
   ],
   "source": [
    "## YOUR CODE HERE ##\n",
    "def plot_loss_accuracy(train_losses, train_accuracy, val_losses, val_accuracy):\n",
    "    plt.figure(figsize = (12, 5))\n",
    "    plt.subplot(1, 2, 1)\n",
    "    plt.plot(train_losses)\n",
    "    plt.plot(val_losses)\n",
    "    plt.legend([\"Train\", \"Validation\"])\n",
    "    plt.xlabel(\"Epochs\")\n",
    "    plt.ylabel(\"Losses\")\n",
    "    plt.title(\"Train and Validation losses\")\n",
    "\n",
    "    plt.subplot(1, 2, 2)\n",
    "    plt.plot(train_accuracy)\n",
    "    plt.plot(val_accuracy)\n",
    "    plt.legend([\"Train\", \"Validation\"])\n",
    "    plt.xlabel(\"Epochs\")\n",
    "    plt.ylabel(\"Accuracy\")\n",
    "    plt.title(\"Train and Validation accuracy\")\n",
    "plot_loss_accuracy(train_losses, train_accuracy, val_losses, val_accuracy)"
   ]
  },
  {
   "cell_type": "markdown",
   "metadata": {
    "id": "WOYleeEGzWWl"
   },
   "source": [
    "## Testing your model\n",
    "Using the previously created `DataLoader` for the test set, compute the percentage of correct predictions using the highest probability prediction.\n",
    "\n",
    "If your accuracy is over 90%, great work, but see if you can push a bit further!\n",
    "If your accuracy is under 90%, you'll need to make improvements.\n",
    "Go back and check your model architecture, loss function, and optimizer to make sure they're appropriate for an image classification task."
   ]
  },
  {
   "cell_type": "code",
   "execution_count": 26,
   "metadata": {
    "colab": {
     "base_uri": "https://localhost:8080/"
    },
    "id": "93ULeSNszWWl",
    "outputId": "9ea9bb77-cabe-4600-fea8-95bbe8f93314"
   },
   "outputs": [
    {
     "name": "stdout",
     "output_type": "stream",
     "text": [
      "The test accuracy is: 0.9477835297584534\n"
     ]
    }
   ],
   "source": [
    "test_correct = 0\n",
    "for data in test_loader:\n",
    "    images, labels = data\n",
    "\n",
    "    if torch.cuda.is_available():\n",
    "        images, labels = images.cuda(), labels.cuda()\n",
    "\n",
    "    outputs = model(images)\n",
    "\n",
    "    _, predictions = torch.max(outputs.data, 1)\n",
    "    test_correct += sum(predictions == labels)/len(predictions == labels)\n",
    "\n",
    "print(\"The test accuracy is: {}\".format(test_correct/len(test_loader)))"
   ]
  },
  {
   "cell_type": "markdown",
   "metadata": {
    "id": "5XYq20TJzWWm"
   },
   "source": [
    "## Improving your model\n",
    "\n",
    "Once your model is done training, try tweaking your hyperparameters and training again below to improve your accuracy on the test set!"
   ]
  },
  {
   "cell_type": "markdown",
   "metadata": {
    "id": "T8Xic6oszWWm"
   },
   "source": [
    "#### Increased the number of layers and epochs. Also reduced the learning rate"
   ]
  },
  {
   "cell_type": "code",
   "execution_count": 27,
   "metadata": {
    "id": "tQ4_9PAYzWWn"
   },
   "outputs": [],
   "source": [
    "class model(nn.Module):\n",
    "    def __init__(self):\n",
    "        super().__init__()\n",
    "        self.activation = F.relu\n",
    "        self.layer1 = nn.Linear(784, 512)\n",
    "        self.layer2 = nn.Linear(512, 256)\n",
    "        self.layer3 = nn.Linear(256, 128)\n",
    "        self.layer4 = nn.Linear(128, 64)\n",
    "        self.layer5 = nn.Linear(64, 10)\n",
    "\n",
    "    def forward(self, x):\n",
    "        x =  torch.flatten(x, 1)\n",
    "        x = self.activation(self.layer1(x))\n",
    "        x = self.activation(self.layer2(x))\n",
    "        x = self.activation(self.layer3(x))\n",
    "        x = self.activation(self.layer4(x))\n",
    "        return self.layer5(x)\n",
    "\n",
    "# Initialize the network, loss function, and optimizer\n",
    "new_model = model()\n",
    "\n",
    "optimizer = optim.SGD(new_model.parameters(), lr=0.005, momentum=0.9)"
   ]
  },
  {
   "cell_type": "code",
   "execution_count": 28,
   "metadata": {
    "colab": {
     "base_uri": "https://localhost:8080/"
    },
    "id": "-PFTUHoyzWWn",
    "outputId": "2f849a2e-3bcd-4754-8f6a-c3d06291d739"
   },
   "outputs": [
    {
     "name": "stdout",
     "output_type": "stream",
     "text": [
      "Epoch: 1 Train Accuracy: 0.4142% Train Loss: 1.5797\n",
      "Epoch: 1 Validation Accuracy: 0.5547% Validation Loss: 1.2547\n",
      "Epoch: 2 Train Accuracy: 0.6443% Train Loss: 1.0329\n",
      "Epoch: 2 Validation Accuracy: 0.7422% Validation Loss: 0.7751\n",
      "Epoch: 3 Train Accuracy: 0.8005% Train Loss: 0.6177\n",
      "Epoch: 3 Validation Accuracy: 0.8317% Validation Loss: 0.5446\n",
      "Epoch: 4 Train Accuracy: 0.8545% Train Loss: 0.4607\n",
      "Epoch: 4 Validation Accuracy: 0.8668% Validation Loss: 0.4364\n",
      "Epoch: 5 Train Accuracy: 0.8797% Train Loss: 0.3787\n",
      "Epoch: 5 Validation Accuracy: 0.8820% Validation Loss: 0.3750\n",
      "Epoch: 6 Train Accuracy: 0.8964% Train Loss: 0.3255\n",
      "Epoch: 6 Validation Accuracy: 0.8925% Validation Loss: 0.3408\n",
      "Epoch: 7 Train Accuracy: 0.9079% Train Loss: 0.2923\n",
      "Epoch: 7 Validation Accuracy: 0.9127% Validation Loss: 0.2857\n",
      "Epoch: 8 Train Accuracy: 0.9157% Train Loss: 0.2651\n",
      "Epoch: 8 Validation Accuracy: 0.9201% Validation Loss: 0.2615\n",
      "Epoch: 9 Train Accuracy: 0.9244% Train Loss: 0.2424\n",
      "Epoch: 9 Validation Accuracy: 0.9165% Validation Loss: 0.2652\n",
      "Epoch: 10 Train Accuracy: 0.9272% Train Loss: 0.2310\n",
      "Epoch: 10 Validation Accuracy: 0.9245% Validation Loss: 0.2380\n",
      "Epoch: 11 Train Accuracy: 0.9324% Train Loss: 0.2125\n",
      "Epoch: 11 Validation Accuracy: 0.9345% Validation Loss: 0.2111\n",
      "Epoch: 12 Train Accuracy: 0.9352% Train Loss: 0.2010\n",
      "Epoch: 12 Validation Accuracy: 0.9350% Validation Loss: 0.2134\n",
      "Epoch: 13 Train Accuracy: 0.9384% Train Loss: 0.1916\n",
      "Epoch: 13 Validation Accuracy: 0.9251% Validation Loss: 0.2377\n",
      "Epoch: 14 Train Accuracy: 0.9403% Train Loss: 0.1859\n",
      "Epoch: 14 Validation Accuracy: 0.9374% Validation Loss: 0.1942\n",
      "Epoch: 15 Train Accuracy: 0.9443% Train Loss: 0.1754\n",
      "Epoch: 15 Validation Accuracy: 0.9406% Validation Loss: 0.1898\n",
      "Epoch: 16 Train Accuracy: 0.9471% Train Loss: 0.1684\n",
      "Epoch: 16 Validation Accuracy: 0.9452% Validation Loss: 0.1791\n",
      "Epoch: 17 Train Accuracy: 0.9485% Train Loss: 0.1616\n",
      "Epoch: 17 Validation Accuracy: 0.9499% Validation Loss: 0.1607\n",
      "Epoch: 18 Train Accuracy: 0.9484% Train Loss: 0.1610\n",
      "Epoch: 18 Validation Accuracy: 0.9437% Validation Loss: 0.1811\n",
      "Epoch: 19 Train Accuracy: 0.9504% Train Loss: 0.1535\n",
      "Epoch: 19 Validation Accuracy: 0.9529% Validation Loss: 0.1614\n",
      "Epoch: 20 Train Accuracy: 0.9534% Train Loss: 0.1483\n",
      "Epoch: 20 Validation Accuracy: 0.9460% Validation Loss: 0.1692\n"
     ]
    }
   ],
   "source": [
    "EPOCHS = 20\n",
    "new_train_losses, new_train_accuracy, new_val_losses, new_val_accuracy = train_model(new_model, train_loader,\n",
    "                                                                                      val_loader, optimizer, criterion, EPOCHS)"
   ]
  },
  {
   "cell_type": "code",
   "execution_count": 31,
   "metadata": {
    "id": "yeDp4VRX7vm-"
   },
   "outputs": [],
   "source": [
    "new_train_accuracy = [_.cpu().numpy() for _ in new_train_accuracy]\n",
    "new_val_accuracy = [_.cpu().numpy() for _ in new_val_accuracy]"
   ]
  },
  {
   "cell_type": "code",
   "execution_count": 32,
   "metadata": {
    "colab": {
     "base_uri": "https://localhost:8080/",
     "height": 487
    },
    "id": "9euaer-1zWWo",
    "outputId": "9bef6d05-4c6c-4cbb-c6c2-27831b700e78"
   },
   "outputs": [
    {
     "data": {
      "image/png": "[encoded data removed]",
      "text/plain": [
       "<Figure size 1200x500 with 2 Axes>"
      ]
     },
     "metadata": {},
     "output_type": "display_data"
    }
   ],
   "source": [
    "plot_loss_accuracy(new_train_losses, new_train_accuracy, new_val_losses, new_val_accuracy)"
   ]
  },
  {
   "cell_type": "code",
   "execution_count": 33,
   "metadata": {
    "colab": {
     "base_uri": "https://localhost:8080/"
    },
    "id": "HYLdrQmHzWWo",
    "outputId": "d6a881a5-725f-4d51-c486-72773c154c4b"
   },
   "outputs": [
    {
     "name": "stdout",
     "output_type": "stream",
     "text": [
      "The new test accuracy is: 0.9527755379676819\n"
     ]
    }
   ],
   "source": [
    "test_correct = 0\n",
    "for data in test_loader:\n",
    "    images, labels = data\n",
    "\n",
    "    if torch.cuda.is_available():\n",
    "        images, labels = images.cuda(), labels.cuda()\n",
    "\n",
    "    outputs = new_model(images)\n",
    "\n",
    "    _, predictions = torch.max(outputs.data, 1)\n",
    "    test_correct += sum(predictions == labels)/len(predictions == labels)\n",
    "\n",
    "print(\"The new test accuracy is: {}\".format(test_correct/len(test_loader)))"
   ]
  },
  {
   "cell_type": "markdown",
   "metadata": {
    "id": "Po6NHF-ezWWp"
   },
   "source": [
    "## Saving your model\n",
    "Using `torch.save`, save your model for future loading."
   ]
  },
  {
   "cell_type": "code",
   "execution_count": 34,
   "metadata": {
    "id": "t5BMRJCxzWWq"
   },
   "outputs": [],
   "source": [
    "MODEL_PATH = os.getcwd()\n",
    "if \"Models\" not in os.listdir():\n",
    "    os.makedirs('Models')\n",
    "MODEL_PATH = os.path.join(os.getcwd(), \"Models\\\\model.pth\")\n",
    "torch.save(model, MODEL_PATH)"
   ]
  },
  {
   "cell_type": "code",
   "execution_count": null,
   "metadata": {
    "id": "rIQw8f8CzWWr"
   },
   "outputs": [],
   "source": []
  }
 ],
 "metadata": {
  "accelerator": "GPU",
  "colab": {
   "gpuType": "T4",
   "provenance": []
  },
  "kernelspec": {
   "display_name": "Python 3 (ipykernel)",
   "language": "python",
   "name": "python3"
  },
  "language_info": {
   "codemirror_mode": {
    "name": "ipython",
    "version": 3
   },
   "file_extension": ".py",
   "mimetype": "text/x-python",
   "name": "python",
   "nbconvert_exporter": "python",
   "pygments_lexer": "ipython3",
   "version": "3.11.7"
  }
 },
 "nbformat": 4,
 "nbformat_minor": 1
}
